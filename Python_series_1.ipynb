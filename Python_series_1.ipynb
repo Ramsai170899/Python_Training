{
  "nbformat": 4,
  "nbformat_minor": 0,
  "metadata": {
    "colab": {
      "provenance": [],
      "collapsed_sections": [
        "OsKicPlyt6g7",
        "og-mK_ovvZpP",
        "5J4IvdOM1HL0",
        "01m2D9Wn1fCx"
      ],
      "authorship_tag": "ABX9TyN7UdlIxFaNRxGWSdAXDjPd",
      "include_colab_link": true
    },
    "kernelspec": {
      "name": "python3",
      "display_name": "Python 3"
    },
    "language_info": {
      "name": "python"
    }
  },
  "cells": [
    {
      "cell_type": "markdown",
      "metadata": {
        "id": "view-in-github",
        "colab_type": "text"
      },
      "source": [
        "<a href=\"https://colab.research.google.com/github/Ramsai170899/Python_Training/blob/main/Python_series_1.ipynb\" target=\"_parent\"><img src=\"https://colab.research.google.com/assets/colab-badge.svg\" alt=\"Open In Colab\"/></a>"
      ]
    },
    {
      "cell_type": "markdown",
      "source": [
        "# Commandline Basics"
      ],
      "metadata": {
        "id": "OsKicPlyt6g7"
      }
    },
    {
      "cell_type": "markdown",
      "source": [
        "> python\n",
        "\n",
        "> quit()\n",
        "\n",
        "> python --version\n",
        "\n",
        "> pip install pip\n",
        "\n",
        "> pip install <\"packagename\">\n",
        "\n",
        "> pip uninstall <\"packagename\">\n",
        "\n",
        "> pip3 list\n",
        "\n",
        "> pip3 show <\"packagename\">"
      ],
      "metadata": {
        "id": "fT1ICbv0vWnp"
      }
    },
    {
      "cell_type": "markdown",
      "source": [
        "# Python 101"
      ],
      "metadata": {
        "id": "og-mK_ovvZpP"
      }
    },
    {
      "cell_type": "markdown",
      "source": [
        "> Creator : Guido Van Rossum\n",
        "\n",
        "> Release : Python - 1991, Java - 1995.\n",
        "\n",
        "> Versions : python 2 & python 3\n",
        "\n",
        "\n",
        "&nbsp;\n",
        "\n",
        "---\n",
        "\n",
        "&nbsp;\n",
        "\n",
        "\n",
        "*   Web Development : Front End\n",
        "*   Software applications : BackEnd\n",
        "*   Scripting : shell & Bash\n",
        "*   Database : SQL & BigData\n",
        "*   Cloud : AWS, Azure, GCP\n",
        "\n",
        "&nbsp;\n",
        "\n",
        "---\n",
        "\n",
        "&nbsp;\n",
        "\n",
        "> IDE : Integrated Development Environment\n",
        "\n",
        "*   Notepad++\n",
        "*   Visual Studio Code\n",
        "*   Pycharm\n",
        "*   NetBeans\n",
        "*   Eclipse\n",
        "\n",
        "&nbsp;\n",
        "\n",
        "---\n",
        "\n",
        "&nbsp;\n",
        "\n",
        "\n",
        "\n",
        "> OpenSource Community Support :\n",
        "* StackOverflow\n",
        "* Github\n",
        "\n",
        "&nbsp;\n",
        "\n",
        "---\n",
        "\n",
        "&nbsp;\n",
        "\n",
        "> Packages or Modules :\n",
        "* Numpy\n",
        "* Pandas\n",
        "* Matplotlib\n",
        "* Seaborn\n",
        "* Tensorflow\n",
        "* Pytorch\n",
        "\n",
        "\n"
      ],
      "metadata": {
        "id": "wkL3G5Tyv6Q8"
      }
    },
    {
      "cell_type": "markdown",
      "source": [
        "# Vocabulary"
      ],
      "metadata": {
        "id": "5J4IvdOM1HL0"
      }
    },
    {
      "cell_type": "markdown",
      "source": [
        "> Compiler\n",
        "\n",
        "> Interpreter\n",
        "\n",
        "> platform Independent\n",
        "\n",
        "> Modules\n",
        "\n",
        "> Indentation\n",
        "\n",
        "> Comments"
      ],
      "metadata": {
        "id": "-BwUoamb1NR0"
      }
    },
    {
      "cell_type": "markdown",
      "source": [
        "# Development"
      ],
      "metadata": {
        "id": "01m2D9Wn1fCx"
      }
    },
    {
      "cell_type": "markdown",
      "source": [
        "\n",
        "* procedural Programming\n",
        "* object-oriented Programming\n",
        "* Functional Programming"
      ],
      "metadata": {
        "id": "JWocG9fr10Hj"
      }
    },
    {
      "cell_type": "code",
      "source": [],
      "metadata": {
        "id": "GVHr-0dw2SH2"
      },
      "execution_count": null,
      "outputs": []
    }
  ]
}